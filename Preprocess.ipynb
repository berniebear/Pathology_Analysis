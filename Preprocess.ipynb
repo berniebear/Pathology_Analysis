{
 "cells": [
  {
   "cell_type": "markdown",
   "metadata": {},
   "source": [
    "# Pathology NN Analysis "
   ]
  },
  {
   "cell_type": "code",
   "execution_count": 19,
   "metadata": {
    "collapsed": false
   },
   "outputs": [],
   "source": [
    "import os,sys\n",
    "import numpy as np\n",
    "from PIL import Image\n",
    "from sklearn import svm\n",
    "from sklearn.metrics import accuracy_score\n",
    "from sklearn.model_selection import cross_validate\n",
    "from tqdm import tqdm_notebook as tqdm"
   ]
  },
  {
   "cell_type": "code",
   "execution_count": 21,
   "metadata": {
    "collapsed": false
   },
   "outputs": [
    {
     "name": "stdout",
     "output_type": "stream",
     "text": [
      "\n"
     ]
    }
   ],
   "source": [
    "# read data\n",
    "data_num = 11839 # pos:319, neg:924\n",
    "data_size = 12288\n",
    "label = np.zeros((11839))\n",
    "data = np.zeros((11839, 12288))\n",
    "with open('data.csv') as lines:\n",
    "    for n, line in enumerate(tqdm(lines)):\n",
    "        line = line.strip().split()\n",
    "        label[n] = line[0]\n",
    "        data[n,:] = line[1:]"
   ]
  },
  {
   "cell_type": "code",
   "execution_count": 22,
   "metadata": {
    "collapsed": false
   },
   "outputs": [
    {
     "name": "stdout",
     "output_type": "stream",
     "text": [
      "\n"
     ]
    }
   ],
   "source": [
    "# save to image\n",
    "for n in tqdm(range(data.shape[0])):\n",
    "    im = np.reshape(data[n,:], (3,64,64))\n",
    "    im = np.swapaxes(im,0,2)\n",
    "    im = np.swapaxes(im,0,1)\n",
    "    im = im*128 + 127\n",
    "    result = Image.fromarray((im).astype(np.uint8))\n",
    "    result_resized = result.resize((299,299), resample=Image.BILINEAR)\n",
    "    result_resized.save(os.path.join('data_resized','image'+str(n)+'.png'),'png')\n",
    "    result.save(os.path.join('data','image'+str(n)+'.png'),'png')"
   ]
  },
  {
   "cell_type": "code",
   "execution_count": 23,
   "metadata": {
    "collapsed": false
   },
   "outputs": [
    {
     "name": "stdout",
     "output_type": "stream",
     "text": [
      "(11839, 12288)\n",
      "(11839,)\n"
     ]
    }
   ],
   "source": [
    "print data.shape\n",
    "print label.shape"
   ]
  },
  {
   "cell_type": "code",
   "execution_count": 32,
   "metadata": {
    "collapsed": false
   },
   "outputs": [],
   "source": [
    "fp = open('labels.txt', 'w')\n",
    "for n, l in enumerate(label):\n",
    "    fp.write(str(n) + ',' + str(int(l)) + '\\n')"
   ]
  },
  {
   "cell_type": "code",
   "execution_count": null,
   "metadata": {
    "collapsed": true
   },
   "outputs": [],
   "source": []
  }
 ],
 "metadata": {
  "kernelspec": {
   "display_name": "Python 2",
   "language": "python",
   "name": "python2"
  },
  "language_info": {
   "codemirror_mode": {
    "name": "ipython",
    "version": 2
   },
   "file_extension": ".py",
   "mimetype": "text/x-python",
   "name": "python",
   "nbconvert_exporter": "python",
   "pygments_lexer": "ipython2",
   "version": "2.7.12"
  }
 },
 "nbformat": 4,
 "nbformat_minor": 0
}
