{
 "cells": [
  {
   "cell_type": "markdown",
   "metadata": {},
   "source": [
    "# Pathology NN Analysis "
   ]
  },
  {
   "cell_type": "code",
   "execution_count": 9,
   "metadata": {
    "collapsed": false
   },
   "outputs": [],
   "source": [
    "import os,sys\n",
    "import numpy as np\n",
    "from PIL import Image\n",
    "from sklearn import svm\n",
    "from sklearn.metrics import accuracy_score\n",
    "from sklearn.model_selection import cross_validate\n",
    "from tqdm import tqdm_notebook as tqdm"
   ]
  },
  {
   "cell_type": "code",
   "execution_count": 10,
   "metadata": {
    "collapsed": false
   },
   "outputs": [
    {
     "name": "stdout",
     "output_type": "stream",
     "text": [
      "\n"
     ]
    }
   ],
   "source": [
    "# read data\n",
    "data_num = 11839 # pos:319, neg:924\n",
    "data_size = 12288\n",
    "label = np.zeros((11839))\n",
    "data = np.zeros((11839, 12288))\n",
    "with open('data.csv') as lines:\n",
    "    for n, line in enumerate(tqdm(lines)):\n",
    "        line = line.strip().split()\n",
    "        label[n] = line[0]\n",
    "        data[n,:] = line[1:]"
   ]
  },
  {
   "cell_type": "code",
   "execution_count": 11,
   "metadata": {
    "collapsed": false
   },
   "outputs": [
    {
     "name": "stdout",
     "output_type": "stream",
     "text": [
      "\n"
     ]
    }
   ],
   "source": [
    "# save to image\n",
    "for n in tqdm(range(data.shape[0])):\n",
    "    im = np.reshape(data[n,:], (3,64,64))\n",
    "    im = np.swapaxes(im,0,2)\n",
    "    im = np.swapaxes(im,0,1)\n",
    "    im = im*128 + 127\n",
    "    result = Image.fromarray((im).astype(np.uint8))\n",
    "    result_resized = result.resize((299,299), resample=Image.BILINEAR)\n",
    "    result_resized.save(os.path.join('data_resized','image'+str(n)+'.png'),'png')\n",
    "    result.save(os.path.join('data','image'+str(n)+'.png'),'png')"
   ]
  },
  {
   "cell_type": "code",
   "execution_count": 12,
   "metadata": {
    "collapsed": false
   },
   "outputs": [
    {
     "name": "stdout",
     "output_type": "stream",
     "text": [
      "(11839, 12288)\n",
      "(11839,)\n"
     ]
    }
   ],
   "source": [
    "print data.shape\n",
    "print label.shape"
   ]
  },
  {
   "cell_type": "code",
   "execution_count": 17,
   "metadata": {
    "collapsed": false
   },
   "outputs": [],
   "source": [
    "fp = open('all_labels.txt', 'wb')\n",
    "for n, l in enumerate(label):\n",
    "    fp.write(str(n) + ',' + str(int(l)) + '\\n')"
   ]
  },
  {
   "cell_type": "code",
   "execution_count": 18,
   "metadata": {
    "collapsed": false
   },
   "outputs": [],
   "source": [
    "ls = []\n",
    "with open('all_labels.txt') as lines:\n",
    "    for line in lines:\n",
    "        id, l = line.strip().split(',')\n",
    "        ls.append(int(l))"
   ]
  },
  {
   "cell_type": "code",
   "execution_count": 33,
   "metadata": {
    "collapsed": false
   },
   "outputs": [],
   "source": [
    "pos = np.where(label==1)[0]\n",
    "neg = np.where(label==0)[0]"
   ]
  },
  {
   "cell_type": "code",
   "execution_count": 34,
   "metadata": {
    "collapsed": false
   },
   "outputs": [
    {
     "name": "stdout",
     "output_type": "stream",
     "text": [
      "((1430,), (10409,))\n"
     ]
    }
   ],
   "source": [
    "print(pos.shape, neg.shape)"
   ]
  },
  {
   "cell_type": "code",
   "execution_count": 113,
   "metadata": {
    "collapsed": false
   },
   "outputs": [
    {
     "name": "stdout",
     "output_type": "stream",
     "text": [
      "(4290,) (4290,)\n"
     ]
    }
   ],
   "source": [
    "# sample 3300+990 - 1430 = 2860 negatives\n",
    "neg_idx = np.random.permutation(neg.shape[0])\n",
    "neg_s = neg[neg_idx[:2860]]\n",
    "label_neg = np.zeros(2860)\n",
    "pos_s = pos\n",
    "label_pos = np.ones(1430)\n",
    "data_sampled = np.hstack((pos_s, neg_s))\n",
    "label_sampled =np.hstack((label_pos, label_neg))\n",
    "print data_sampled.shape, label_sampled.shape"
   ]
  },
  {
   "cell_type": "code",
   "execution_count": 114,
   "metadata": {
    "collapsed": false
   },
   "outputs": [],
   "source": [
    "# shuffle and split\n",
    "shuffle_idx = np.random.permutation(data_sampled.shape[0])\n",
    "data_sampled = data_sampled[shuffle_idx]\n",
    "label_sampled = label_sampled[shuffle_idx]"
   ]
  },
  {
   "cell_type": "code",
   "execution_count": 115,
   "metadata": {
    "collapsed": false
   },
   "outputs": [],
   "source": [
    "tr_data = data_sampled[:3300].tolist()\n",
    "tr_label = label_sampled[:3300].tolist()\n",
    "tt_data = data_sampled[3300:].tolist()\n",
    "tt_label = label_sampled[3300:].tolist()"
   ]
  },
  {
   "cell_type": "code",
   "execution_count": 116,
   "metadata": {
    "collapsed": false
   },
   "outputs": [
    {
     "name": "stdout",
     "output_type": "stream",
     "text": [
      "3300\n"
     ]
    }
   ],
   "source": [
    "tr_fp = open('splits/sp7/tr_lst', 'wb')\n",
    "tt_fp = open('splits/sp7/tt_lst', 'wb')\n",
    "count = 0\n",
    "for (d, l) in zip(tr_data, tr_label):\n",
    "    tr_fp.write(str(int(d)) + ',' + str(int(l)) + '\\n')\n",
    "    count += 1\n",
    "print(count)\n",
    "for (d, l) in zip(tt_data, tt_label):\n",
    "    tt_fp.write(str(int(d)) + ',' + str(int(l)) + '\\n')"
   ]
  },
  {
   "cell_type": "code",
   "execution_count": 104,
   "metadata": {
    "collapsed": false
   },
   "outputs": [
    {
     "name": "stdout",
     "output_type": "stream",
     "text": [
      "[ 1.  0.  0.  0.  0.  1.  0.  0.  0.  0.]\n",
      "[1.0, 0.0, 0.0, 0.0, 0.0, 1.0, 0.0, 0.0, 0.0, 0.0]\n"
     ]
    }
   ],
   "source": [
    "print(label[tt_data[0:10]])\n",
    "print(tt_label[0:10])"
   ]
  },
  {
   "cell_type": "code",
   "execution_count": 83,
   "metadata": {
    "collapsed": false
   },
   "outputs": [
    {
     "name": "stdout",
     "output_type": "stream",
     "text": [
      "(990, 3300)\n"
     ]
    }
   ],
   "source": [
    "print(len(tt_label), len(tr_label))"
   ]
  },
  {
   "cell_type": "code",
   "execution_count": null,
   "metadata": {
    "collapsed": true
   },
   "outputs": [],
   "source": []
  },
  {
   "cell_type": "code",
   "execution_count": 40,
   "metadata": {
    "collapsed": false
   },
   "outputs": [
    {
     "name": "stdout",
     "output_type": "stream",
     "text": [
      "(4290, 12288) (4290,)\n"
     ]
    }
   ],
   "source": [
    "# sample 3300+990 - 1430 = 2860 negatives\n",
    "neg_idx = np.random.permutation(neg.shape[0])\n",
    "data_neg = data[neg_idx[:2860]]\n",
    "label_neg = np.zeros(2860)\n",
    "data_pos = data[pos]\n",
    "label_pos = np.ones(1430)\n",
    "data_sampled = np.vstack((data_pos, data_neg))\n",
    "label_sampled =np.hstack((label_pos, label_neg))\n",
    "print data_sampled.shape, label_sampled.shape"
   ]
  },
  {
   "cell_type": "code",
   "execution_count": 41,
   "metadata": {
    "collapsed": false
   },
   "outputs": [],
   "source": [
    "# shuffle and split\n",
    "shuffle_idx = np.random.permutation(data_sampled.shape[0])\n",
    "data_sampled = data_sampled[shuffle_idx]\n",
    "label_sampled = label_sampled[shuffle_idx]"
   ]
  },
  {
   "cell_type": "code",
   "execution_count": 45,
   "metadata": {
    "collapsed": false
   },
   "outputs": [
    {
     "name": "stdout",
     "output_type": "stream",
     "text": [
      "(3300, 12288) (990, 12288)\n"
     ]
    }
   ],
   "source": [
    "# save dataset\n",
    "tr_data = data_sampled[:3300]\n",
    "tr_label = label_sampled[:3300]\n",
    "tt_data = data_sampled[3300:]\n",
    "tt_label = label_sampled[3300:]\n",
    "np.save('splits/tr_data.npy', tr_data)\n",
    "np.save('splits/tr_label.npy', tr_label)\n",
    "np.save('splits/tt_data.npy', tt_data)\n",
    "np.save('splits/tt_label.npy', tt_label)\n",
    "print tr_data.shape, tt_data.shape"
   ]
  },
  {
   "cell_type": "code",
   "execution_count": null,
   "metadata": {
    "collapsed": true
   },
   "outputs": [],
   "source": []
  }
 ],
 "metadata": {
  "kernelspec": {
   "display_name": "Python 2",
   "language": "python",
   "name": "python2"
  },
  "language_info": {
   "codemirror_mode": {
    "name": "ipython",
    "version": 2
   },
   "file_extension": ".py",
   "mimetype": "text/x-python",
   "name": "python",
   "nbconvert_exporter": "python",
   "pygments_lexer": "ipython2",
   "version": "2.7.12"
  }
 },
 "nbformat": 4,
 "nbformat_minor": 0
}
